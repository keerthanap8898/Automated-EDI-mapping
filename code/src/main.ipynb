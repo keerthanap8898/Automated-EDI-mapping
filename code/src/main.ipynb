{
 "cells": [
  {
   "cell_type": "code",
   "execution_count": 1,
   "metadata": {},
   "outputs": [],
   "source": [
    "from tkinter.filedialog import askopenfilename\n",
    "from fuzzywuzzy import fuzz \n",
    "from fuzzywuzzy import process \n",
    "from code import source_target_select as sts\n",
    "from code import extract_details as ed\n",
    "from code import ruleset_generation as rg"
   ]
  },
  {
   "cell_type": "code",
   "execution_count": 2,
   "metadata": {},
   "outputs": [
    {
     "name": "stdout",
     "output_type": "stream",
     "text": [
      "Select the source file from the pop up window\n",
      "\n",
      "Select the destination file from the pop up window\n",
      "\n"
     ]
    }
   ],
   "source": [
    "filename1,filename2,ds,dd=sts.select_files()"
   ]
  },
  {
   "cell_type": "code",
   "execution_count": 3,
   "metadata": {},
   "outputs": [
    {
     "name": "stdout",
     "output_type": "stream",
     "text": [
      "C:/Users/kp/workspace/com.extol.ebi.demo01.singlefftoff/src/com/extol/ebi/demo01/singlefftoff\n",
      "com.extol.ebi.demo01.singlefftoff\n",
      "DelimitedFF\n",
      "FixedFF\n",
      "Source\n",
      "Target\n",
      "{'FirstName': 'String', 'LastName': 'String', 'Quantity': 'Integer', 'Color': 'String', 'UnitPrice': 'Decimal'}\n",
      "{'FullName': 'String', 'TotalPrice': 'Decimal', 'ColorCode': 'String', 'Units': 'Integer'}\n"
     ]
    }
   ],
   "source": [
    "path,pack,source,dest,so,de=ed.extract_attr(filename1,filename2,ds,dd)\n",
    "dicts=ed.extract_source_attr(ds)\n",
    "dictd=ed.extract_dest_attr(dd)\n"
   ]
  },
  {
   "cell_type": "code",
   "execution_count": 4,
   "metadata": {},
   "outputs": [
    {
     "name": "stdout",
     "output_type": "stream",
     "text": [
      "{'FullName': ['FirstName', 'LastName'], 'TotalPrice': ['UnitPrice'], 'ColorCode': ['Color'], 'Units': ['Quantity', 'UnitPrice']}\n",
      "The ruleset file has been generated in:\n",
      "C:\\\\Users\\\\kp\\\\workspace\\\\com.extol.ebi.demo01.singlefftoff\\\\src\\\\com\\\\extol\\\\ebi\\\\demo01\\\\singlefftoff\\\\DelimitedFFtoFixedFFRS.ruleset\n"
     ]
    }
   ],
   "source": [
    "finalmap=rg.predict_map(dicts,dictd)\n",
    "RSpath=rg.generate_RS(path,pack,source,dest,so,de,finalmap)"
   ]
  },
  {
   "cell_type": "code",
   "execution_count": null,
   "metadata": {},
   "outputs": [],
   "source": []
  }
 ],
 "metadata": {
  "kernelspec": {
   "display_name": "Python 3",
   "language": "python",
   "name": "python3"
  },
  "language_info": {
   "codemirror_mode": {
    "name": "ipython",
    "version": 3
   },
   "file_extension": ".py",
   "mimetype": "text/x-python",
   "name": "python",
   "nbconvert_exporter": "python",
   "pygments_lexer": "ipython3",
   "version": "3.6.5"
  }
 },
 "nbformat": 4,
 "nbformat_minor": 2
}
